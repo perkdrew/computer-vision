{
 "cells": [
  {
   "cell_type": "code",
   "execution_count": 12,
   "metadata": {},
   "outputs": [],
   "source": [
    "from __future__ import print_function\n",
    "import cv2\n",
    "import random\n",
    "import numpy as np\n",
    "import matplotlib.pyplot as plt\n",
    "%matplotlib"
   ]
  },
  {
   "cell_type": "code",
   "execution_count": null,
   "metadata": {},
   "outputs": [],
   "source": [
    "def display(img):\n",
    "    fig = plt.figure(figsize=(12,10))\n",
    "    displot = fig.add_subplot(111)\n",
    "    displot.imshow(img)"
   ]
  },
  {
   "cell_type": "code",
   "execution_count": 13,
   "metadata": {},
   "outputs": [
    {
     "data": {
      "text/plain": [
       "(640, 480, 3)"
      ]
     },
     "execution_count": 13,
     "metadata": {},
     "output_type": "execute_result"
    }
   ],
   "source": [
    "img = cv2.imread('appleorange.JPG')\n",
    "img.shape"
   ]
  },
  {
   "cell_type": "code",
   "execution_count": 14,
   "metadata": {},
   "outputs": [],
   "source": [
    "threshold = 100\n",
    "canny_output = cv2.Canny(img, threshold, threshold*2)\n",
    "contours, heirarchy = cv2.findContours(canny_output, cv2.RETR_EXTERNAL,\n",
    "cv2.CHAIN_APPROX_SIMPLE)"
   ]
  },
  {
   "cell_type": "code",
   "execution_count": 15,
   "metadata": {},
   "outputs": [
    {
     "name": "stdout",
     "output_type": "stream",
     "text": [
      "85\n"
     ]
    }
   ],
   "source": [
    "print(len(contours))"
   ]
  },
  {
   "cell_type": "code",
   "execution_count": 19,
   "metadata": {},
   "outputs": [
    {
     "name": "stdout",
     "output_type": "stream",
     "text": [
      "1 (52.949200000000005, 66.38640000000001, 136.2072, 0.0)\n",
      "2 (43.677693761814744, 50.94659735349717, 128.70510396975425, 0.0)\n",
      "3 (34.418282548476455, 93.26246537396122, 183.0893351800554, 0.0)\n",
      "4 (32.792241946088104, 78.3931623931624, 158.78238001314926, 0.0)\n",
      "5 (51.00493827160494, 55.09925925925926, 124.42765432098766, 0.0)\n",
      "6 (66.8863771564545, 74.85960737656157, 165.39678762641284, 0.0)\n",
      "7 (67.8125, 87.031875, 165.140625, 0.0)\n",
      "8 (36.25, 100.72916666666666, 188.67746913580245, 0.0)\n"
     ]
    }
   ],
   "source": [
    "count=0\n",
    "font = cv2.FONT_HERSHEY_SIMPLEX\n",
    "for c in contours:\n",
    "    x,y,w,h = cv2.boundingRect(c)\n",
    "    if (w > 20 and h > 20):\n",
    "        count += 1\n",
    "        ROI = img[y+int(h/4):y+int(3*h/4), x+int(h/4):x+int(3*h/4)]\n",
    "        ROI_meancolor = cv2.mean(ROI)\n",
    "        print(count, ROI_meancolor)\n",
    "        if (ROI_meancolor[0] > 30 and ROI_meancolor[0] < 40 and \n",
    "            ROI_meancolor[1] > 70 and ROI_meancolor[1] < 105 and\n",
    "            ROI_meancolor[2] > 150 and ROI_meancolor[2] < 200):\n",
    "            cv2.putText(img, 'orange', (x-2,y-2), font, 0.8,\n",
    "                       (255,255,255), 2, cv2.LINE_AA)\n",
    "            cv2.rectangle(img, (x,y), (x+w,y+h), (255,255,255), 3)\n",
    "            cv2.imshow('Contours', img)\n",
    "        else:\n",
    "            cv2.putText(img, 'apple', (x-2,y-2), font, 0.8,\n",
    "                       (0,0,255), 3)\n",
    "            cv2.imshow('Contours', img)"
   ]
  },
  {
   "cell_type": "code",
   "execution_count": 17,
   "metadata": {},
   "outputs": [],
   "source": [
    "from skimage.feature import hog\n",
    "from skimage import data, exposure\n",
    "fruit, hog_image = hog(img, orientations=8, pixels_per_cell=(16,16),\n",
    "                      cells_per_block=(1,1), visualize=True, multichannel=True)\n",
    "hog_image_rescaled = exposure.rescale_intensity(hog_image, in_range=(0,10))\n",
    "cv2.imshow('HOG_image', hog_image_rescaled)"
   ]
  }
 ],
 "metadata": {
  "kernelspec": {
   "display_name": "Python 3",
   "language": "python",
   "name": "python3"
  },
  "language_info": {
   "codemirror_mode": {
    "name": "ipython",
    "version": 3
   },
   "file_extension": ".py",
   "mimetype": "text/x-python",
   "name": "python",
   "nbconvert_exporter": "python",
   "pygments_lexer": "ipython3",
   "version": "3.8.1"
  }
 },
 "nbformat": 4,
 "nbformat_minor": 4
}
